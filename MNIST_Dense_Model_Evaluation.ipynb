{
  "nbformat": 4,
  "nbformat_minor": 0,
  "metadata": {
    "colab": {
      "name": "MNIST Dense Model Evaluation.ipynb",
      "provenance": [],
      "collapsed_sections": []
    },
    "kernelspec": {
      "name": "python3",
      "display_name": "Python 3"
    },
    "language_info": {
      "name": "python"
    },
    "accelerator": "GPU"
  },
  "cells": [
    {
      "cell_type": "markdown",
      "metadata": {
        "id": "-dB4LV0r_o9H"
      },
      "source": [
        "### Importação de Bibliotecas"
      ]
    },
    {
      "cell_type": "code",
      "metadata": {
        "id": "3sLZ5Njx_XO5"
      },
      "source": [
        "from tensorflow import keras\n",
        "from tensorflow.keras.datasets import mnist\n",
        "from tensorflow.keras.models import Sequential\n",
        "from tensorflow.keras.layers import Dense, Dropout, Flatten\n",
        "from tensorflow.keras.layers import Conv2D, MaxPooling2D, AveragePooling2D\n",
        "import numpy as np\n",
        "import pandas as pd\n",
        "from sklearn.metrics import classification_report, confusion_matrix\n",
        "import matplotlib.pyplot as plt\n",
        "import seaborn as sns"
      ],
      "execution_count": null,
      "outputs": []
    },
    {
      "cell_type": "code",
      "metadata": {
        "id": "aduHXbCtAd2g"
      },
      "source": [
        "batch_size = 32\n",
        "num_classes = 10\n",
        "epochs = 100\n",
        "lr = 0.001\n",
        "img_rows, img_cols = 28, 28"
      ],
      "execution_count": null,
      "outputs": []
    },
    {
      "cell_type": "code",
      "metadata": {
        "colab": {
          "base_uri": "https://localhost:8080/",
          "height": 316
        },
        "id": "pj5tBuGKAnQ2",
        "outputId": "f04ee28a-38c0-4548-d9da-5139ee5fb8e1"
      },
      "source": [
        "(X_train, y_train), (X_test, y_test) = mnist.load_data()\n",
        "\n",
        "sample_number = 50\n",
        "image = X_train[sample_number]\n",
        "\n",
        "fig = plt.figure()\n",
        "plt.imshow(image, cmap='gray')\n",
        "plt.show()\n",
        "\n",
        "X_train = X_train.reshape(60000, img_rows, img_cols, 1)\n",
        "X_test = X_test.reshape(10000, img_rows, img_cols, 1)\n",
        "\n",
        "print(\"Dimensoes: \", X_train.shape)\n",
        "print(X_train.shape[0], 'Exemplos de treino')\n",
        "print(X_test.shape[0], 'Exemplos de teste')\n",
        "\n",
        "y_train = keras.utils.to_categorical(y_train, num_classes)\n",
        "y_test = keras.utils.to_categorical(y_test, num_classes)"
      ],
      "execution_count": null,
      "outputs": [
        {
          "output_type": "display_data",
          "data": {
            "image/png": "[encoded data removed]",
            "text/plain": [
              "<Figure size 432x288 with 1 Axes>"
            ]
          },
          "metadata": {
            "needs_background": "light"
          }
        },
        {
          "output_type": "stream",
          "name": "stdout",
          "text": [
            "Dimensoes:  (60000, 28, 28, 1)\n",
            "60000 Exemplos de treino\n",
            "10000 Exemplos de teste\n"
          ]
        }
      ]
    },
    {
      "cell_type": "markdown",
      "metadata": {
        "id": "o2cHku6UBWwn"
      },
      "source": [
        "### Construção do Modelo"
      ]
    },
    {
      "cell_type": "code",
      "metadata": {
        "id": "EZW5tlVPAq9v"
      },
      "source": [
        "model = Sequential()\n",
        "model.add(Conv2D(32, kernel_size=(3,3), activation='relu', input_shape=(28, 28, 1)))\n",
        "model.add(Conv2D(128, (3, 3), activation='relu'))\n",
        "model.add(MaxPooling2D(pool_size=(2,2)))\n",
        "model.add(Flatten())\n",
        "model.add(Dense(128, activation='relu'))\n",
        "model.add(Dropout(0.5))\n",
        "model.add(Dense(num_classes, activation='softmax'))"
      ],
      "execution_count": null,
      "outputs": []
    },
    {
      "cell_type": "markdown",
      "metadata": {
        "id": "m9vhRupGB4bp"
      },
      "source": [
        "### Treinamento do Modelo"
      ]
    },
    {
      "cell_type": "code",
      "metadata": {
        "colab": {
          "base_uri": "https://localhost:8080/"
        },
        "id": "ye96vN0oB374",
        "outputId": "55c643be-826e-4434-d6c4-6ab56fe4ea3c"
      },
      "source": [
        "opt = keras.optimizers.Adam(learning_rate=lr)\n",
        "\n",
        "model.compile(optimizer=opt, loss='categorical_crossentropy', metrics=['accuracy'])\n",
        "\n",
        "history = model.fit(X_train, y_train, steps_per_epoch=10, batch_size=batch_size, epochs=epochs, validation_data=(X_test, y_test))"
      ],
      "execution_count": null,
      "outputs": [
        {
          "output_type": "stream",
          "name": "stdout",
          "text": [
            "Epoch 1/100\n",
            "10/10 [==============================] - 31s 195ms/step - loss: 22.9907 - accuracy: 0.2594 - val_loss: 1.6286 - val_accuracy: 0.4708\n",
            "Epoch 2/100\n",
            "10/10 [==============================] - 1s 157ms/step - loss: 1.9216 - accuracy: 0.4000 - val_loss: 1.5389 - val_accuracy: 0.5423\n",
            "Epoch 3/100\n",
            "10/10 [==============================] - 3s 295ms/step - loss: 1.5276 - accuracy: 0.4625 - val_loss: 1.0311 - val_accuracy: 0.6921\n",
            "Epoch 4/100\n",
            "10/10 [==============================] - 1s 155ms/step - loss: 1.1648 - accuracy: 0.5781 - val_loss: 0.6974 - val_accuracy: 0.8195\n",
            "Epoch 5/100\n",
            "10/10 [==============================] - 3s 294ms/step - loss: 0.8880 - accuracy: 0.7031 - val_loss: 0.5291 - val_accuracy: 0.8561\n",
            "Epoch 6/100\n",
            "10/10 [==============================] - 3s 295ms/step - loss: 0.7072 - accuracy: 0.7500 - val_loss: 0.4393 - val_accuracy: 0.8766\n",
            "Epoch 7/100\n",
            "10/10 [==============================] - 1s 155ms/step - loss: 0.7800 - accuracy: 0.7312 - val_loss: 0.3521 - val_accuracy: 0.9084\n",
            "Epoch 8/100\n",
            "10/10 [==============================] - 1s 152ms/step - loss: 0.6076 - accuracy: 0.8094 - val_loss: 0.2873 - val_accuracy: 0.9184\n",
            "Epoch 9/100\n",
            "10/10 [==============================] - 1s 151ms/step - loss: 0.5886 - accuracy: 0.8000 - val_loss: 0.2865 - val_accuracy: 0.9115\n",
            "Epoch 10/100\n",
            "10/10 [==============================] - 3s 294ms/step - loss: 0.8160 - accuracy: 0.7937 - val_loss: 0.2932 - val_accuracy: 0.9253\n",
            "Epoch 11/100\n",
            "10/10 [==============================] - 1s 152ms/step - loss: 0.5711 - accuracy: 0.8344 - val_loss: 0.2642 - val_accuracy: 0.9315\n",
            "Epoch 12/100\n",
            "10/10 [==============================] - 1s 152ms/step - loss: 0.5017 - accuracy: 0.8594 - val_loss: 0.2441 - val_accuracy: 0.9303\n",
            "Epoch 13/100\n",
            "10/10 [==============================] - 3s 295ms/step - loss: 0.3740 - accuracy: 0.8906 - val_loss: 0.2563 - val_accuracy: 0.9300\n",
            "Epoch 14/100\n",
            "10/10 [==============================] - 3s 294ms/step - loss: 0.4098 - accuracy: 0.8687 - val_loss: 0.2392 - val_accuracy: 0.9307\n",
            "Epoch 15/100\n",
            "10/10 [==============================] - 1s 151ms/step - loss: 0.4507 - accuracy: 0.8687 - val_loss: 0.2043 - val_accuracy: 0.9418\n",
            "Epoch 16/100\n",
            "10/10 [==============================] - 1s 152ms/step - loss: 0.3343 - accuracy: 0.8844 - val_loss: 0.1942 - val_accuracy: 0.9433\n",
            "Epoch 17/100\n",
            "10/10 [==============================] - 1s 152ms/step - loss: 0.4163 - accuracy: 0.8625 - val_loss: 0.1849 - val_accuracy: 0.9456\n",
            "Epoch 18/100\n",
            "10/10 [==============================] - 1s 152ms/step - loss: 0.2728 - accuracy: 0.9062 - val_loss: 0.1820 - val_accuracy: 0.9480\n",
            "Epoch 19/100\n",
            "10/10 [==============================] - 1s 149ms/step - loss: 0.4379 - accuracy: 0.8906 - val_loss: 0.1806 - val_accuracy: 0.9495\n",
            "Epoch 20/100\n",
            "10/10 [==============================] - 3s 294ms/step - loss: 0.4183 - accuracy: 0.8813 - val_loss: 0.1870 - val_accuracy: 0.9446\n",
            "Epoch 21/100\n",
            "10/10 [==============================] - 1s 152ms/step - loss: 0.3460 - accuracy: 0.8875 - val_loss: 0.1667 - val_accuracy: 0.9504\n",
            "Epoch 22/100\n",
            "10/10 [==============================] - 1s 152ms/step - loss: 0.2680 - accuracy: 0.9125 - val_loss: 0.1531 - val_accuracy: 0.9554\n",
            "Epoch 23/100\n",
            "10/10 [==============================] - 1s 152ms/step - loss: 0.3665 - accuracy: 0.8813 - val_loss: 0.1655 - val_accuracy: 0.9513\n",
            "Epoch 24/100\n",
            "10/10 [==============================] - 1s 152ms/step - loss: 0.3804 - accuracy: 0.9031 - val_loss: 0.1491 - val_accuracy: 0.9548\n",
            "Epoch 25/100\n",
            "10/10 [==============================] - 1s 153ms/step - loss: 0.2645 - accuracy: 0.9094 - val_loss: 0.1435 - val_accuracy: 0.9574\n",
            "Epoch 26/100\n",
            "10/10 [==============================] - 1s 152ms/step - loss: 0.2364 - accuracy: 0.9281 - val_loss: 0.1371 - val_accuracy: 0.9617\n",
            "Epoch 27/100\n",
            "10/10 [==============================] - 1s 152ms/step - loss: 0.3385 - accuracy: 0.9125 - val_loss: 0.1485 - val_accuracy: 0.9579\n",
            "Epoch 28/100\n",
            "10/10 [==============================] - 1s 149ms/step - loss: 0.2776 - accuracy: 0.9219 - val_loss: 0.1403 - val_accuracy: 0.9579\n",
            "Epoch 29/100\n",
            "10/10 [==============================] - 1s 152ms/step - loss: 0.2875 - accuracy: 0.9062 - val_loss: 0.1233 - val_accuracy: 0.9650\n",
            "Epoch 30/100\n",
            "10/10 [==============================] - 1s 150ms/step - loss: 0.3320 - accuracy: 0.9125 - val_loss: 0.1261 - val_accuracy: 0.9624\n",
            "Epoch 31/100\n",
            "10/10 [==============================] - 1s 152ms/step - loss: 0.3075 - accuracy: 0.9156 - val_loss: 0.1281 - val_accuracy: 0.9636\n",
            "Epoch 32/100\n",
            "10/10 [==============================] - 1s 151ms/step - loss: 0.2940 - accuracy: 0.9125 - val_loss: 0.1311 - val_accuracy: 0.9625\n",
            "Epoch 33/100\n",
            "10/10 [==============================] - 1s 150ms/step - loss: 0.3015 - accuracy: 0.8969 - val_loss: 0.1373 - val_accuracy: 0.9616\n",
            "Epoch 34/100\n",
            "10/10 [==============================] - 1s 152ms/step - loss: 0.1888 - accuracy: 0.9469 - val_loss: 0.1339 - val_accuracy: 0.9610\n",
            "Epoch 35/100\n",
            "10/10 [==============================] - 3s 294ms/step - loss: 0.3967 - accuracy: 0.8938 - val_loss: 0.1390 - val_accuracy: 0.9574\n",
            "Epoch 36/100\n",
            "10/10 [==============================] - 1s 151ms/step - loss: 0.2531 - accuracy: 0.9281 - val_loss: 0.1466 - val_accuracy: 0.9563\n",
            "Epoch 37/100\n",
            "10/10 [==============================] - 1s 150ms/step - loss: 0.3126 - accuracy: 0.9187 - val_loss: 0.1386 - val_accuracy: 0.9584\n",
            "Epoch 38/100\n",
            "10/10 [==============================] - 1s 152ms/step - loss: 0.2416 - accuracy: 0.9438 - val_loss: 0.1294 - val_accuracy: 0.9602\n",
            "Epoch 39/100\n",
            "10/10 [==============================] - 1s 150ms/step - loss: 0.1679 - accuracy: 0.9531 - val_loss: 0.1289 - val_accuracy: 0.9629\n",
            "Epoch 40/100\n",
            "10/10 [==============================] - 1s 151ms/step - loss: 0.3300 - accuracy: 0.9094 - val_loss: 0.1312 - val_accuracy: 0.9618\n",
            "Epoch 41/100\n",
            "10/10 [==============================] - 1s 152ms/step - loss: 0.2592 - accuracy: 0.9281 - val_loss: 0.1388 - val_accuracy: 0.9572\n",
            "Epoch 42/100\n",
            "10/10 [==============================] - 1s 149ms/step - loss: 0.2581 - accuracy: 0.9219 - val_loss: 0.1347 - val_accuracy: 0.9591\n",
            "Epoch 43/100\n",
            "10/10 [==============================] - 1s 152ms/step - loss: 0.2651 - accuracy: 0.9156 - val_loss: 0.1214 - val_accuracy: 0.9621\n",
            "Epoch 44/100\n",
            "10/10 [==============================] - 1s 152ms/step - loss: 0.2221 - accuracy: 0.9312 - val_loss: 0.1116 - val_accuracy: 0.9664\n",
            "Epoch 45/100\n",
            "10/10 [==============================] - 1s 145ms/step - loss: 0.2741 - accuracy: 0.9281 - val_loss: 0.1108 - val_accuracy: 0.9690\n",
            "Epoch 46/100\n",
            "10/10 [==============================] - 1s 148ms/step - loss: 0.2637 - accuracy: 0.9125 - val_loss: 0.1069 - val_accuracy: 0.9687\n",
            "Epoch 47/100\n",
            "10/10 [==============================] - 1s 145ms/step - loss: 0.2943 - accuracy: 0.9031 - val_loss: 0.1093 - val_accuracy: 0.9675\n",
            "Epoch 48/100\n",
            "10/10 [==============================] - 1s 152ms/step - loss: 0.2317 - accuracy: 0.9344 - val_loss: 0.1171 - val_accuracy: 0.9663\n",
            "Epoch 49/100\n",
            "10/10 [==============================] - 1s 152ms/step - loss: 0.2487 - accuracy: 0.9281 - val_loss: 0.1082 - val_accuracy: 0.9680\n",
            "Epoch 50/100\n",
            "10/10 [==============================] - 1s 146ms/step - loss: 0.2079 - accuracy: 0.9563 - val_loss: 0.1217 - val_accuracy: 0.9622\n",
            "Epoch 51/100\n",
            "10/10 [==============================] - 1s 147ms/step - loss: 0.1834 - accuracy: 0.9469 - val_loss: 0.1193 - val_accuracy: 0.9652\n",
            "Epoch 52/100\n",
            "10/10 [==============================] - 1s 146ms/step - loss: 0.2438 - accuracy: 0.9281 - val_loss: 0.1192 - val_accuracy: 0.9661\n",
            "Epoch 53/100\n",
            "10/10 [==============================] - 1s 152ms/step - loss: 0.2976 - accuracy: 0.9187 - val_loss: 0.1188 - val_accuracy: 0.9654\n",
            "Epoch 54/100\n",
            "10/10 [==============================] - 1s 145ms/step - loss: 0.2270 - accuracy: 0.9187 - val_loss: 0.1289 - val_accuracy: 0.9618\n",
            "Epoch 55/100\n",
            "10/10 [==============================] - 1s 152ms/step - loss: 0.2372 - accuracy: 0.9344 - val_loss: 0.1044 - val_accuracy: 0.9687\n",
            "Epoch 56/100\n",
            "10/10 [==============================] - 1s 151ms/step - loss: 0.1612 - accuracy: 0.9531 - val_loss: 0.1025 - val_accuracy: 0.9710\n",
            "Epoch 57/100\n",
            "10/10 [==============================] - 1s 147ms/step - loss: 0.2648 - accuracy: 0.9281 - val_loss: 0.1145 - val_accuracy: 0.9679\n",
            "Epoch 58/100\n",
            "10/10 [==============================] - 1s 147ms/step - loss: 0.2878 - accuracy: 0.9219 - val_loss: 0.1321 - val_accuracy: 0.9624\n",
            "Epoch 59/100\n",
            "10/10 [==============================] - 1s 143ms/step - loss: 0.2484 - accuracy: 0.9312 - val_loss: 0.1199 - val_accuracy: 0.9681\n",
            "Epoch 60/100\n",
            "10/10 [==============================] - 1s 152ms/step - loss: 0.2493 - accuracy: 0.9250 - val_loss: 0.0892 - val_accuracy: 0.9734\n",
            "Epoch 61/100\n",
            "10/10 [==============================] - 1s 152ms/step - loss: 0.2049 - accuracy: 0.9406 - val_loss: 0.1001 - val_accuracy: 0.9693\n",
            "Epoch 62/100\n",
            "10/10 [==============================] - 1s 151ms/step - loss: 0.1701 - accuracy: 0.9375 - val_loss: 0.0856 - val_accuracy: 0.9752\n",
            "Epoch 63/100\n",
            "10/10 [==============================] - 1s 151ms/step - loss: 0.1692 - accuracy: 0.9531 - val_loss: 0.0881 - val_accuracy: 0.9747\n",
            "Epoch 64/100\n",
            "10/10 [==============================] - 1s 143ms/step - loss: 0.3357 - accuracy: 0.9250 - val_loss: 0.1041 - val_accuracy: 0.9683\n",
            "Epoch 65/100\n",
            "10/10 [==============================] - 1s 143ms/step - loss: 0.2265 - accuracy: 0.9406 - val_loss: 0.0956 - val_accuracy: 0.9719\n",
            "Epoch 66/100\n",
            "10/10 [==============================] - 1s 145ms/step - loss: 0.2013 - accuracy: 0.9375 - val_loss: 0.0985 - val_accuracy: 0.9708\n",
            "Epoch 67/100\n",
            "10/10 [==============================] - 1s 151ms/step - loss: 0.1658 - accuracy: 0.9594 - val_loss: 0.0915 - val_accuracy: 0.9734\n",
            "Epoch 68/100\n",
            "10/10 [==============================] - 1s 144ms/step - loss: 0.2222 - accuracy: 0.9187 - val_loss: 0.0875 - val_accuracy: 0.9733\n",
            "Epoch 69/100\n",
            "10/10 [==============================] - 1s 145ms/step - loss: 0.1696 - accuracy: 0.9469 - val_loss: 0.0843 - val_accuracy: 0.9749\n",
            "Epoch 70/100\n",
            "10/10 [==============================] - 1s 152ms/step - loss: 0.3261 - accuracy: 0.9281 - val_loss: 0.0885 - val_accuracy: 0.9726\n",
            "Epoch 71/100\n",
            "10/10 [==============================] - 1s 152ms/step - loss: 0.1856 - accuracy: 0.9438 - val_loss: 0.0839 - val_accuracy: 0.9739\n",
            "Epoch 72/100\n",
            "10/10 [==============================] - 1s 152ms/step - loss: 0.1553 - accuracy: 0.9469 - val_loss: 0.0871 - val_accuracy: 0.9735\n",
            "Epoch 73/100\n",
            "10/10 [==============================] - 1s 151ms/step - loss: 0.1703 - accuracy: 0.9594 - val_loss: 0.0882 - val_accuracy: 0.9751\n",
            "Epoch 74/100\n",
            "10/10 [==============================] - 1s 152ms/step - loss: 0.2164 - accuracy: 0.9406 - val_loss: 0.0833 - val_accuracy: 0.9739\n",
            "Epoch 75/100\n",
            "10/10 [==============================] - 1s 152ms/step - loss: 0.2172 - accuracy: 0.9438 - val_loss: 0.0884 - val_accuracy: 0.9725\n",
            "Epoch 76/100\n",
            "10/10 [==============================] - 1s 151ms/step - loss: 0.1598 - accuracy: 0.9625 - val_loss: 0.0872 - val_accuracy: 0.9736\n",
            "Epoch 77/100\n",
            "10/10 [==============================] - 1s 143ms/step - loss: 0.0823 - accuracy: 0.9625 - val_loss: 0.0926 - val_accuracy: 0.9718\n",
            "Epoch 78/100\n",
            "10/10 [==============================] - 1s 144ms/step - loss: 0.1943 - accuracy: 0.9438 - val_loss: 0.1042 - val_accuracy: 0.9713\n",
            "Epoch 79/100\n",
            "10/10 [==============================] - 1s 152ms/step - loss: 0.2679 - accuracy: 0.9281 - val_loss: 0.0987 - val_accuracy: 0.9685\n",
            "Epoch 80/100\n",
            "10/10 [==============================] - 1s 147ms/step - loss: 0.2703 - accuracy: 0.9312 - val_loss: 0.0996 - val_accuracy: 0.9682\n",
            "Epoch 81/100\n",
            "10/10 [==============================] - 1s 144ms/step - loss: 0.2012 - accuracy: 0.9375 - val_loss: 0.0879 - val_accuracy: 0.9719\n",
            "Epoch 82/100\n",
            "10/10 [==============================] - 1s 152ms/step - loss: 0.1547 - accuracy: 0.9594 - val_loss: 0.0831 - val_accuracy: 0.9748\n",
            "Epoch 83/100\n",
            "10/10 [==============================] - 1s 151ms/step - loss: 0.1915 - accuracy: 0.9531 - val_loss: 0.0835 - val_accuracy: 0.9749\n",
            "Epoch 84/100\n",
            "10/10 [==============================] - 1s 143ms/step - loss: 0.3004 - accuracy: 0.9438 - val_loss: 0.0810 - val_accuracy: 0.9751\n",
            "Epoch 85/100\n",
            "10/10 [==============================] - 1s 145ms/step - loss: 0.1326 - accuracy: 0.9438 - val_loss: 0.0743 - val_accuracy: 0.9772\n",
            "Epoch 86/100\n",
            "10/10 [==============================] - 1s 142ms/step - loss: 0.1553 - accuracy: 0.9500 - val_loss: 0.0724 - val_accuracy: 0.9778\n",
            "Epoch 87/100\n",
            "10/10 [==============================] - 1s 142ms/step - loss: 0.1209 - accuracy: 0.9625 - val_loss: 0.0782 - val_accuracy: 0.9773\n",
            "Epoch 88/100\n",
            "10/10 [==============================] - 1s 144ms/step - loss: 0.2452 - accuracy: 0.9312 - val_loss: 0.0782 - val_accuracy: 0.9754\n",
            "Epoch 89/100\n",
            "10/10 [==============================] - 1s 151ms/step - loss: 0.1882 - accuracy: 0.9438 - val_loss: 0.0850 - val_accuracy: 0.9739\n",
            "Epoch 90/100\n",
            "10/10 [==============================] - 1s 152ms/step - loss: 0.2009 - accuracy: 0.9438 - val_loss: 0.0830 - val_accuracy: 0.9761\n",
            "Epoch 91/100\n",
            "10/10 [==============================] - 1s 144ms/step - loss: 0.2161 - accuracy: 0.9375 - val_loss: 0.0813 - val_accuracy: 0.9770\n",
            "Epoch 92/100\n",
            "10/10 [==============================] - 1s 152ms/step - loss: 0.2072 - accuracy: 0.9500 - val_loss: 0.0764 - val_accuracy: 0.9766\n",
            "Epoch 93/100\n",
            "10/10 [==============================] - 1s 144ms/step - loss: 0.1049 - accuracy: 0.9750 - val_loss: 0.0740 - val_accuracy: 0.9778\n",
            "Epoch 94/100\n",
            "10/10 [==============================] - 1s 152ms/step - loss: 0.1376 - accuracy: 0.9656 - val_loss: 0.0810 - val_accuracy: 0.9763\n",
            "Epoch 95/100\n",
            "10/10 [==============================] - 1s 143ms/step - loss: 0.2018 - accuracy: 0.9438 - val_loss: 0.0800 - val_accuracy: 0.9771\n",
            "Epoch 96/100\n",
            "10/10 [==============================] - 1s 151ms/step - loss: 0.2197 - accuracy: 0.9594 - val_loss: 0.0758 - val_accuracy: 0.9776\n",
            "Epoch 97/100\n",
            "10/10 [==============================] - 1s 151ms/step - loss: 0.1671 - accuracy: 0.9531 - val_loss: 0.0755 - val_accuracy: 0.9746\n",
            "Epoch 98/100\n",
            "10/10 [==============================] - 1s 144ms/step - loss: 0.2272 - accuracy: 0.9219 - val_loss: 0.0755 - val_accuracy: 0.9770\n",
            "Epoch 99/100\n",
            "10/10 [==============================] - 1s 142ms/step - loss: 0.2041 - accuracy: 0.9375 - val_loss: 0.0855 - val_accuracy: 0.9748\n",
            "Epoch 100/100\n",
            "10/10 [==============================] - 1s 151ms/step - loss: 0.1566 - accuracy: 0.9531 - val_loss: 0.0706 - val_accuracy: 0.9776\n"
          ]
        }
      ]
    },
    {
      "cell_type": "code",
      "metadata": {
        "colab": {
          "base_uri": "https://localhost:8080/"
        },
        "id": "zwzJ6OUrCYXT",
        "outputId": "d1970e64-a218-437c-89db-7e850d6ef277"
      },
      "source": [
        "loss_train, train_acc = model.evaluate(X_train, y_train, verbose=0)\n",
        "loss_test, test_acc = model.evaluate(X_test, y_test, verbose=0)\n",
        "print(\"Training accuracy: %.3f, Testing accuracy: %.3f\" % (train_acc, test_acc))"
      ],
      "execution_count": null,
      "outputs": [
        {
          "output_type": "stream",
          "name": "stdout",
          "text": [
            "Training accuracy: 0.980, Testing accuracy: 0.978\n"
          ]
        }
      ]
    },
    {
      "cell_type": "code",
      "metadata": {
        "colab": {
          "base_uri": "https://localhost:8080/",
          "height": 545
        },
        "id": "zyuU3v1OCtT2",
        "outputId": "d6c796fe-879c-4a99-bf6d-3e8478ff9c45"
      },
      "source": [
        "plt.title(\"Loss value\")\n",
        "plt.plot(history.history['loss'], label='train')\n",
        "plt.plot(history.history['val_loss'], label='valid')\n",
        "plt.legend()\n",
        "plt.show()\n",
        "\n",
        "plt.title(\"Accuracy\")\n",
        "plt.plot(history.history['accuracy'], label='train')\n",
        "plt.plot(history.history['val_accuracy'], label='valid')\n",
        "plt.legend()\n",
        "plt.show()"
      ],
      "execution_count": null,
      "outputs": [
        {
          "output_type": "display_data",
          "data": {
            "image/png": "[encoded data removed]",
            "text/plain": [
              "<Figure size 432x288 with 1 Axes>"
            ]
          },
          "metadata": {
            "needs_background": "light"
          }
        },
        {
          "output_type": "display_data",
          "data": {
            "image/png": "[encoded data removed]",
            "text/plain": [
              "<Figure size 432x288 with 1 Axes>"
            ]
          },
          "metadata": {
            "needs_background": "light"
          }
        }
      ]
    },
    {
      "cell_type": "code",
      "metadata": {
        "colab": {
          "base_uri": "https://localhost:8080/",
          "height": 768
        },
        "id": "QZNmEOdTDecQ",
        "outputId": "92da0b92-aca4-4b4a-d261-f8ae6ca113cc"
      },
      "source": [
        "predictions = model.predict(X_test)\n",
        "y_pred = (predictions > 0.5)\n",
        "classification = classification_report(y_test.argmax(axis=1), y_pred.argmax(axis=1))\n",
        "print(\"----------------- Classification Report -----------------\")\n",
        "print(classification)\n",
        "print(\"----------------- Confusion Matrix ----------------------\")\n",
        "cm = confusion_matrix(y_test.argmax(axis=1), y_pred.argmax(axis=1))\n",
        "df_cm = pd.DataFrame(cm, index=[i for i in range(10)], columns= [i for i in range(10)])\n",
        "plt.figure(figsize=(10, 7))\n",
        "sns.heatmap(df_cm, annot=True, linewidths=2)"
      ],
      "execution_count": null,
      "outputs": [
        {
          "output_type": "stream",
          "name": "stdout",
          "text": [
            "----------------- Classification Report -----------------\n",
            "              precision    recall  f1-score   support\n",
            "\n",
            "           0       0.92      0.99      0.95       980\n",
            "           1       0.99      0.98      0.99      1135\n",
            "           2       0.98      0.98      0.98      1032\n",
            "           3       0.97      0.98      0.97      1010\n",
            "           4       0.99      0.97      0.98       982\n",
            "           5       0.99      0.98      0.98       892\n",
            "           6       0.97      0.99      0.98       958\n",
            "           7       0.98      0.97      0.97      1028\n",
            "           8       0.99      0.95      0.97       974\n",
            "           9       0.98      0.96      0.97      1009\n",
            "\n",
            "    accuracy                           0.97     10000\n",
            "   macro avg       0.97      0.97      0.97     10000\n",
            "weighted avg       0.98      0.97      0.97     10000\n",
            "\n",
            "----------------- Confusion Matrix ----------------------\n"
          ]
        },
        {
          "output_type": "execute_result",
          "data": {
            "text/plain": [
              "<matplotlib.axes._subplots.AxesSubplot at 0x7f14f3d472d0>"
            ]
          },
          "metadata": {},
          "execution_count": 13
        },
        {
          "output_type": "display_data",
          "data": {
            "image/png": "[encoded data removed]",
            "text/plain": [
              "<Figure size 720x504 with 2 Axes>"
            ]
          },
          "metadata": {
            "needs_background": "light"
          }
        }
      ]
    },
    {
      "cell_type": "code",
      "metadata": {
        "id": "hH0ToLLtEHgZ"
      },
      "source": [
        ""
      ],
      "execution_count": null,
      "outputs": []
    }
  ]
}