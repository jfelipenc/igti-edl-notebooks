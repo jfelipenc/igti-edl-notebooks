{
  "nbformat": 4,
  "nbformat_minor": 0,
  "metadata": {
    "colab": {
      "name": "Trabalho IGTI Fashion MNIST.ipynb",
      "provenance": [],
      "collapsed_sections": []
    },
    "kernelspec": {
      "name": "python3",
      "display_name": "Python 3"
    },
    "language_info": {
      "name": "python"
    },
    "accelerator": "GPU"
  },
  "cells": [
    {
      "cell_type": "code",
      "metadata": {
        "id": "P22A4e2pu53Z"
      },
      "source": [
        "import numpy as np\n",
        "import matplotlib.pyplot as plt\n",
        "\n",
        "from keras.models import Sequential     #importa modelo Sequential\n",
        "from keras.applications import vgg16    #importa rede VGG16\n",
        "from keras.datasets import fashion_mnist\n",
        "from keras.layers import InputLayer, Dense\n",
        "from keras.utils import np_utils\n",
        "from keras.callbacks import EarlyStopping, ModelCheckpoint"
      ],
      "execution_count": null,
      "outputs": []
    },
    {
      "cell_type": "code",
      "metadata": {
        "colab": {
          "base_uri": "https://localhost:8080/"
        },
        "id": "4WMd6YG5vg1R",
        "outputId": "3471ed4a-097c-4b9d-e623-7f3cc7a29337"
      },
      "source": [
        "(X_train, y_train), (X_test, y_test) = fashion_mnist.load_data()\n",
        "X_train.shape, y_train.shape"
      ],
      "execution_count": null,
      "outputs": [
        {
          "output_type": "stream",
          "text": [
            "Downloading data from https://storage.googleapis.com/tensorflow/tf-keras-datasets/train-labels-idx1-ubyte.gz\n",
            "32768/29515 [=================================] - 0s 0us/step\n",
            "40960/29515 [=========================================] - 0s 0us/step\n",
            "Downloading data from https://storage.googleapis.com/tensorflow/tf-keras-datasets/train-images-idx3-ubyte.gz\n",
            "26427392/26421880 [==============================] - 0s 0us/step\n",
            "26435584/26421880 [==============================] - 0s 0us/step\n",
            "Downloading data from https://storage.googleapis.com/tensorflow/tf-keras-datasets/t10k-labels-idx1-ubyte.gz\n",
            "16384/5148 [===============================================================================================] - 0s 0us/step\n",
            "Downloading data from https://storage.googleapis.com/tensorflow/tf-keras-datasets/t10k-images-idx3-ubyte.gz\n",
            "4423680/4422102 [==============================] - 0s 0us/step\n",
            "4431872/4422102 [==============================] - 0s 0us/step\n"
          ],
          "name": "stdout"
        },
        {
          "output_type": "execute_result",
          "data": {
            "text/plain": [
              "((60000, 28, 28), (60000,))"
            ]
          },
          "metadata": {
            "tags": []
          },
          "execution_count": 2
        }
      ]
    },
    {
      "cell_type": "code",
      "metadata": {
        "colab": {
          "base_uri": "https://localhost:8080/",
          "height": 282
        },
        "id": "xpp90bzEvuhX",
        "outputId": "b1d4963f-1b5e-48a8-ac27-d7cd7873b01d"
      },
      "source": [
        "# mostra uma determinada imagem da rede\n",
        "def show_img(element):\n",
        "  img = np.array(element, dtype='float')\n",
        "  img = img.reshape((28,28))\n",
        "  plt.imshow(img, cmap='gray')\n",
        "\n",
        "show_img(X_train[4000])\n",
        "print(y_train[4000])"
      ],
      "execution_count": null,
      "outputs": [
        {
          "output_type": "stream",
          "text": [
            "8\n"
          ],
          "name": "stdout"
        },
        {
          "output_type": "display_data",
          "data": {
            "image/png": "[encoded data removed]",
            "text/plain": [
              "<Figure size 432x288 with 1 Axes>"
            ]
          },
          "metadata": {
            "tags": [],
            "needs_background": "light"
          }
        }
      ]
    },
    {
      "cell_type": "code",
      "metadata": {
        "colab": {
          "base_uri": "https://localhost:8080/"
        },
        "id": "s7Meq9F1wjpd",
        "outputId": "dee8d443-2165-4d02-c856-db1627207f96"
      },
      "source": [
        "# define algumas variáveis úteis, normaliza conjunto de treino e transforma y's em categóricos\n",
        "total_pixels = X_train.shape[1] * X_train.shape[2]\n",
        "\n",
        "X_train_32f = X_train / 255\n",
        "X_train_32f = X_train_32f.reshape(X_train_32f.shape[0], total_pixels).astype('float32')\n",
        "print(X_train.shape)\n",
        "X_test_32f  = X_test / 255\n",
        "X_test_32f = X_test_32f.reshape(X_test_32f.shape[0], total_pixels).astype('float32')\n",
        "\n",
        "y_train_cat = np_utils.to_categorical(y_train)\n",
        "y_test_cat = np_utils.to_categorical(y_test)\n",
        "\n",
        "num_classes  = len(y_train_cat[0])\n",
        "\n",
        "print(\"Number of pixels: \", total_pixels, \"\\nNumber of classes: \", num_classes, \"\\nShape of Train Data: \", X_train_32f.shape)"
      ],
      "execution_count": null,
      "outputs": [
        {
          "output_type": "stream",
          "text": [
            "(60000, 28, 28)\n",
            "Number of pixels:  784 \n",
            "Number of classes:  10 \n",
            "Shape of Train Data:  (60000, 784)\n"
          ],
          "name": "stdout"
        }
      ]
    },
    {
      "cell_type": "code",
      "metadata": {
        "id": "YwZjmjhBBxXD",
        "colab": {
          "base_uri": "https://localhost:8080/"
        },
        "outputId": "61784276-48a0-43c7-d7b5-0d2d63c51ea0"
      },
      "source": [
        "y_train_cat.shape"
      ],
      "execution_count": null,
      "outputs": [
        {
          "output_type": "execute_result",
          "data": {
            "text/plain": [
              "(60000, 10)"
            ]
          },
          "metadata": {
            "tags": []
          },
          "execution_count": 5
        }
      ]
    },
    {
      "cell_type": "code",
      "metadata": {
        "colab": {
          "base_uri": "https://localhost:8080/"
        },
        "id": "8K6WFIR1wM7w",
        "outputId": "4e66b606-41a7-4f4e-814a-1d3380c0f561"
      },
      "source": [
        "# cria a segunda rede descrita no enunciado\n",
        "\n",
        "std_model = Sequential()\n",
        "std_model.add(InputLayer(input_shape=total_pixels))\n",
        "std_model.add(Dense(total_pixels, activation='relu', kernel_initializer='normal'))\n",
        "std_model.add(Dense(1024, activation='relu', kernel_initializer='normal'))\n",
        "std_model.add(Dense(2048, activation='relu', kernel_initializer='normal'))\n",
        "std_model.add(Dense(2048, activation='relu', kernel_initializer='normal'))\n",
        "std_model.add(Dense(num_classes, activation='softmax', kernel_initializer='normal'))\n",
        "std_model.summary()"
      ],
      "execution_count": null,
      "outputs": [
        {
          "output_type": "stream",
          "text": [
            "Model: \"sequential\"\n",
            "_________________________________________________________________\n",
            "Layer (type)                 Output Shape              Param #   \n",
            "=================================================================\n",
            "dense (Dense)                (None, 784)               615440    \n",
            "_________________________________________________________________\n",
            "dense_1 (Dense)              (None, 1024)              803840    \n",
            "_________________________________________________________________\n",
            "dense_2 (Dense)              (None, 2048)              2099200   \n",
            "_________________________________________________________________\n",
            "dense_3 (Dense)              (None, 2048)              4196352   \n",
            "_________________________________________________________________\n",
            "dense_4 (Dense)              (None, 10)                20490     \n",
            "=================================================================\n",
            "Total params: 7,735,322\n",
            "Trainable params: 7,735,322\n",
            "Non-trainable params: 0\n",
            "_________________________________________________________________\n"
          ],
          "name": "stdout"
        }
      ]
    },
    {
      "cell_type": "code",
      "metadata": {
        "id": "dfFKNXaaxycB"
      },
      "source": [
        "std_model.compile(optimizer='adam', loss='categorical_crossentropy', metrics='accuracy')"
      ],
      "execution_count": null,
      "outputs": []
    },
    {
      "cell_type": "code",
      "metadata": {
        "colab": {
          "base_uri": "https://localhost:8080/"
        },
        "id": "oGWlyKumyObV",
        "outputId": "34bdd64f-b027-4b8e-c9c1-e649c0d04f75"
      },
      "source": [
        "earlystop = EarlyStopping(monitor='val_loss', min_delta=-3, patience=3, verbose=2, restore_best_weights=True)\n",
        "modelcheck = ModelCheckpoint('/content/model_igti_{epoch:02d}.h5', monitor='val_loss', verbose=2)\n",
        "\n",
        "result_std = std_model.fit(X_train_32f, y_train_cat, batch_size=100, epochs=20, verbose=1, validation_data=(X_test_32f, y_test_cat), callbacks=[earlystop, modelcheck])"
      ],
      "execution_count": null,
      "outputs": [
        {
          "output_type": "stream",
          "text": [
            "Epoch 1/20\n",
            "600/600 [==============================] - 3s 5ms/step - loss: 0.2084 - accuracy: 0.9209 - val_loss: 0.3585 - val_accuracy: 0.8866\n",
            "\n",
            "Epoch 00001: saving model to /content/model_igti_01.h5\n",
            "Epoch 2/20\n",
            "600/600 [==============================] - 3s 5ms/step - loss: 0.1999 - accuracy: 0.9231 - val_loss: 0.3570 - val_accuracy: 0.8839\n",
            "\n",
            "Epoch 00002: saving model to /content/model_igti_02.h5\n",
            "Epoch 3/20\n",
            "600/600 [==============================] - 3s 5ms/step - loss: 0.1954 - accuracy: 0.9258 - val_loss: 0.3404 - val_accuracy: 0.8875\n",
            "\n",
            "Epoch 00003: saving model to /content/model_igti_03.h5\n",
            "Epoch 4/20\n",
            "600/600 [==============================] - 3s 5ms/step - loss: 0.1869 - accuracy: 0.9297 - val_loss: 0.3630 - val_accuracy: 0.8929\n",
            "Restoring model weights from the end of the best epoch.\n",
            "\n",
            "Epoch 00004: saving model to /content/model_igti_04.h5\n",
            "Epoch 00004: early stopping\n"
          ],
          "name": "stdout"
        }
      ]
    },
    {
      "cell_type": "code",
      "metadata": {
        "colab": {
          "base_uri": "https://localhost:8080/"
        },
        "id": "dwVwbq2VCAQS",
        "outputId": "0da29e40-51e5-4f45-a1cf-7a424f674017"
      },
      "source": [
        "from tensorflow.image import resize\n",
        "\n",
        "X_train_res = np.expand_dims(X_train, axis=-1)\n",
        "X_train_res = np.repeat(X_train_res, 3, axis=-1)\n",
        "X_train_res = resize(X_train_res, [32,32])\n",
        "X_train_res.shape"
      ],
      "execution_count": null,
      "outputs": [
        {
          "output_type": "execute_result",
          "data": {
            "text/plain": [
              "TensorShape([60000, 32, 32, 3])"
            ]
          },
          "metadata": {
            "tags": []
          },
          "execution_count": 19
        }
      ]
    },
    {
      "cell_type": "code",
      "metadata": {
        "colab": {
          "base_uri": "https://localhost:8080/"
        },
        "id": "bPb6tqnmC8kR",
        "outputId": "c864ba04-787c-4d64-ea3c-8833bebc32e6"
      },
      "source": [
        "X_test_res = np.expand_dims(X_test, axis=-1)\n",
        "X_test_res = np.repeat(X_test_res, 3, axis=-1)\n",
        "X_test_res = resize(X_test_res, [32,32])\n",
        "\n",
        "\n",
        "X_test_res.shape"
      ],
      "execution_count": null,
      "outputs": [
        {
          "output_type": "execute_result",
          "data": {
            "text/plain": [
              "TensorShape([10000, 32, 32, 3])"
            ]
          },
          "metadata": {
            "tags": []
          },
          "execution_count": 20
        }
      ]
    },
    {
      "cell_type": "code",
      "metadata": {
        "colab": {
          "base_uri": "https://localhost:8080/"
        },
        "id": "wQEtkTIgyiaB",
        "outputId": "2a4e3748-7540-40af-aa2b-133bfff0a129"
      },
      "source": [
        "# cria a rede vgg-16 do enunciado\n",
        "\n",
        "model_vgg_2 = vgg16.VGG16(include_top=True, classes=10, input_shape=(32,32,3), weights=None)\n",
        "model_vgg_2.compile(optimizer='adam', loss='categorical_crossentropy', metrics='accuracy')\n",
        "model_vgg_2.summary()"
      ],
      "execution_count": null,
      "outputs": [
        {
          "output_type": "stream",
          "text": [
            "Model: \"vgg16\"\n",
            "_________________________________________________________________\n",
            "Layer (type)                 Output Shape              Param #   \n",
            "=================================================================\n",
            "input_3 (InputLayer)         [(None, 32, 32, 3)]       0         \n",
            "_________________________________________________________________\n",
            "block1_conv1 (Conv2D)        (None, 32, 32, 64)        1792      \n",
            "_________________________________________________________________\n",
            "block1_conv2 (Conv2D)        (None, 32, 32, 64)        36928     \n",
            "_________________________________________________________________\n",
            "block1_pool (MaxPooling2D)   (None, 16, 16, 64)        0         \n",
            "_________________________________________________________________\n",
            "block2_conv1 (Conv2D)        (None, 16, 16, 128)       73856     \n",
            "_________________________________________________________________\n",
            "block2_conv2 (Conv2D)        (None, 16, 16, 128)       147584    \n",
            "_________________________________________________________________\n",
            "block2_pool (MaxPooling2D)   (None, 8, 8, 128)         0         \n",
            "_________________________________________________________________\n",
            "block3_conv1 (Conv2D)        (None, 8, 8, 256)         295168    \n",
            "_________________________________________________________________\n",
            "block3_conv2 (Conv2D)        (None, 8, 8, 256)         590080    \n",
            "_________________________________________________________________\n",
            "block3_conv3 (Conv2D)        (None, 8, 8, 256)         590080    \n",
            "_________________________________________________________________\n",
            "block3_pool (MaxPooling2D)   (None, 4, 4, 256)         0         \n",
            "_________________________________________________________________\n",
            "block4_conv1 (Conv2D)        (None, 4, 4, 512)         1180160   \n",
            "_________________________________________________________________\n",
            "block4_conv2 (Conv2D)        (None, 4, 4, 512)         2359808   \n",
            "_________________________________________________________________\n",
            "block4_conv3 (Conv2D)        (None, 4, 4, 512)         2359808   \n",
            "_________________________________________________________________\n",
            "block4_pool (MaxPooling2D)   (None, 2, 2, 512)         0         \n",
            "_________________________________________________________________\n",
            "block5_conv1 (Conv2D)        (None, 2, 2, 512)         2359808   \n",
            "_________________________________________________________________\n",
            "block5_conv2 (Conv2D)        (None, 2, 2, 512)         2359808   \n",
            "_________________________________________________________________\n",
            "block5_conv3 (Conv2D)        (None, 2, 2, 512)         2359808   \n",
            "_________________________________________________________________\n",
            "block5_pool (MaxPooling2D)   (None, 1, 1, 512)         0         \n",
            "_________________________________________________________________\n",
            "flatten (Flatten)            (None, 512)               0         \n",
            "_________________________________________________________________\n",
            "fc1 (Dense)                  (None, 4096)              2101248   \n",
            "_________________________________________________________________\n",
            "fc2 (Dense)                  (None, 4096)              16781312  \n",
            "_________________________________________________________________\n",
            "predictions (Dense)          (None, 10)                40970     \n",
            "=================================================================\n",
            "Total params: 33,638,218\n",
            "Trainable params: 33,638,218\n",
            "Non-trainable params: 0\n",
            "_________________________________________________________________\n"
          ],
          "name": "stdout"
        }
      ]
    },
    {
      "cell_type": "code",
      "metadata": {
        "colab": {
          "base_uri": "https://localhost:8080/"
        },
        "id": "SEQhGje3_iZQ",
        "outputId": "35f38336-1375-49e1-d092-6c8f967f5912"
      },
      "source": [
        "earlystop_vgg = EarlyStopping(monitor='val_loss', min_delta=0, patience=3, verbose=1, restore_best_weights=True)\n",
        "\n",
        "model_vgg_2.fit(X_train_res, y_train_cat, batch_size=128, epochs=3, verbose=1, validation_data=(X_test_res, y_test_cat), callbacks=[earlystop_vgg])"
      ],
      "execution_count": null,
      "outputs": [
        {
          "output_type": "stream",
          "text": [
            "Epoch 1/3\n",
            "469/469 [==============================] - 30s 61ms/step - loss: 1.9618 - accuracy: 0.4245 - val_loss: 0.4465 - val_accuracy: 0.8371\n",
            "Epoch 2/3\n",
            "469/469 [==============================] - 28s 61ms/step - loss: 0.4204 - accuracy: 0.8523 - val_loss: 0.3531 - val_accuracy: 0.8786\n",
            "Epoch 3/3\n",
            "469/469 [==============================] - 29s 61ms/step - loss: 0.3171 - accuracy: 0.8863 - val_loss: 0.4158 - val_accuracy: 0.8569\n"
          ],
          "name": "stdout"
        },
        {
          "output_type": "execute_result",
          "data": {
            "text/plain": [
              "<keras.callbacks.History at 0x7f7430db0cd0>"
            ]
          },
          "metadata": {
            "tags": []
          },
          "execution_count": 22
        }
      ]
    },
    {
      "cell_type": "code",
      "metadata": {
        "id": "FdL8tz2jDNP9"
      },
      "source": [
        "def predict(model, element):\n",
        "  el = np.expand_dims(element, axis=0)\n",
        "  print(np.argmax(model.predict(el)))"
      ],
      "execution_count": null,
      "outputs": []
    },
    {
      "cell_type": "code",
      "metadata": {
        "id": "f4x48cgdy4IO"
      },
      "source": [
        "for x in X_test_res[:100]:\n",
        "  predict(model_vgg_2, x)"
      ],
      "execution_count": null,
      "outputs": []
    },
    {
      "cell_type": "code",
      "metadata": {
        "id": "DNDZM6_6fQb_"
      },
      "source": [
        "norm_weights = model_vgg_2.weights"
      ],
      "execution_count": null,
      "outputs": []
    },
    {
      "cell_type": "code",
      "metadata": {
        "id": "Rx3Jci9jgTyk"
      },
      "source": [
        "unnorm_weights = model_vgg_2.weights"
      ],
      "execution_count": null,
      "outputs": []
    },
    {
      "cell_type": "code",
      "metadata": {
        "id": "CrC4s9Xfhia8"
      },
      "source": [
        ""
      ],
      "execution_count": null,
      "outputs": []
    }
  ]
}